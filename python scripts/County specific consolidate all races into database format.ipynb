{
 "cells": [
  {
   "cell_type": "code",
   "execution_count": 1,
   "metadata": {},
   "outputs": [],
   "source": [
    "#Run the script\n",
    "import pandas as pd\n",
    "import numpy as np"
   ]
  },
  {
   "cell_type": "code",
   "execution_count": 2,
   "metadata": {},
   "outputs": [
    {
     "name": "stdout",
     "output_type": "stream",
     
    }
   ],
   "source": [
    "#Input the name of the raw data file before the in space below this cell\n",
    "input_filename = input()\n",
    "\n",
    "election_year = input()\n",
    "\n",
    "#Create a file name to save as\n",
    "output_filename = input()"
   ]
  },
  {
   "cell_type": "code",
   "execution_count": 3,
   "metadata": {
    "scrolled": true
   },
   "outputs": [],
   "source": [
    "\n",
    "df = pd.read_excel(input_filename + '.xlsx', sheet_name =None, skiprows = 1)\n",
    "\n",
    "dfall = pd.DataFrame()\n",
    "for name, sheet in df.items():\n",
    "    if name == 'Table of Contents' or name == 'Registered Voters':\n",
    "        pass\n",
    "    else:\n",
    "        sheet['sheet'] = name\n",
    "        sheet= sheet.iloc[:-1, :-1]\n",
    "        sheet.columns = pd.MultiIndex.from_arrays([sheet.columns, sheet.iloc[0].values])\n",
    "        sheet= sheet.drop([0, 0])\n",
    "        \n",
    "        \n",
    "        sheet = sheet.set_index(list(sheet.columns[[0,1]]))\n",
    "        \n",
    "        a = sheet.columns.get_level_values(0)\n",
    "        b = sheet.columns.get_level_values(1)\n",
    "\n",
    "        sheet.columns = [a.to_series().mask(lambda x: x.str.startswith('Unnamed')).ffill(), b]\n",
    "\n",
    "        ctydf=sheet.stack(level=0)\n",
    "        ctydf = ctydf.reset_index()\n",
    "\n",
    "        new_cols=['Precinct','Registered Voters','Candidates']\n",
    "        ctydf.rename(columns=dict(zip(ctydf.columns[[0,1,2]], new_cols)),inplace=True)\n",
    "        ctydf['Contest#'] = name\n",
    "        dfall = dfall.append(ctydf)\n"
   ]
  },
  {
   "cell_type": "code",
   "execution_count": 4,
   "metadata": {},
   "outputs": [],
   "source": [
    "dfall.reset_index(inplace=True, drop=True)\n",
    "dfall.drop(columns=['Total'], inplace=True)\n"
   ]
  },
  {
   "cell_type": "code",
   "execution_count": 5,
   "metadata": {},
   "outputs": [],
   "source": [
    "dfall['Contest#']=dfall['Contest#'].astype(int)\n",
    "\n",
    "tblofcontents= pd.read_excel(input_filename + '.xlsx', sheet_name='Table of Contents',skiprows=3)\n",
    "dfall = dfall.merge(tblofcontents, left_on ='Contest#', right_on = 'Page')\n",
    "dfall.drop(columns=['Contest#','Page'],inplace=True)"
   ]
  },
  {
   "cell_type": "code",
   "execution_count": 6,
   "metadata": {},
   "outputs": [],
   "source": [
    "import re\n",
    "\n",
    "dfall['Election Year'] = election_year\n",
    "\n",
    "\n",
    "dfall.iloc[:,np.r_[1,3:8]] = dfall.iloc[:,np.r_[1,3:8]].astype(int)\n",
    "\n",
    "dfall.loc[dfall['Candidates'].str.contains('\\(DEM\\)'), 'Party'] = 'Democratic'\n",
    "dfall.loc[dfall['Candidates'].str.contains('\\(D\\)'), 'Party'] = 'Democratic'\n",
    "dfall.loc[dfall['Candidates'].str.contains('\\sD$'), 'Party'] = 'Democratic'\n",
    "dfall.loc[dfall['Candidates'].str.contains('\\(REP\\)'), 'Party'] = 'Republican'\n",
    "dfall.loc[dfall['Candidates'].str.contains('\\(R\\)'), 'Party'] = 'Republican'\n",
    "dfall.loc[dfall['Candidates'].str.contains('\\sR$'), 'Party'] = 'Republican'\n",
    "dfall.loc[dfall['Candidates'].str.contains('\\(LIB\\)'), 'Party'] = 'Libertarian'\n",
    "dfall.loc[dfall['Candidates'].str.contains('\\(Dem\\)'), 'Party'] = 'Democratic'\n",
    "dfall.loc[dfall['Candidates'].str.contains('\\(Rep\\)'), 'Party'] = 'Republican'\n",
    "dfall.loc[dfall['Candidates'].str.contains('\\(Lib\\)'), 'Party'] = 'Libertarian'\n",
    "\n",
    "\n",
    "dfcan = dfall[(dfall['Candidates']!='YES') & (dfall['Candidates']!='NO')]\n",
    "dfballot = dfall[(dfall['Candidates']=='YES') | (dfall['Candidates']=='NO')]\n",
    "\n",
    "\n",
    "\n",
    "dfballot = dfballot.copy()\n",
    "dfballot.drop(columns=['Party'], inplace=True)\n",
    "dfballot.rename(columns={\"Candidates\": \"Ballot Results\"}, inplace=True)\n",
    "\n",
    "dfcan= dfcan.copy()\n"
   ]
  },
  {
   "cell_type": "code",
   "execution_count": 7,
   "metadata": {
    "scrolled": false
   },
   "outputs": [],
   "source": [
    "\n",
    "dfcan['Party'] = dfcan['Party'].fillna(value='Non Partisan')"
   ]
  },
  {
   "cell_type": "code",
   "execution_count": 8,
   "metadata": {},
   "outputs": [],
   "source": [
    "with pd.ExcelWriter(output_filename +'.xlsx') as writer:\n",
    "    dfcan.to_excel(writer, sheet_name='Candidates')\n",
    "    dfballot.to_excel(writer, sheet_name='Ballots')"
   ]
  }
 ],
 "metadata": {
  "kernelspec": {
   "display_name": "Python 3",
   "language": "python",
   "name": "python3"
  },
  "language_info": {
   "codemirror_mode": {
    "name": "ipython",
    "version": 3
   },
   "file_extension": ".py",
   "mimetype": "text/x-python",
   "name": "python",
   "nbconvert_exporter": "python",
   "pygments_lexer": "ipython3",
   "version": "3.7.4"
  }
 },
 "nbformat": 4,
 "nbformat_minor": 2
}
